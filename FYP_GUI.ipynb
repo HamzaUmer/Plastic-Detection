{
 "cells": [
  {
   "cell_type": "code",
   "execution_count": 1,
   "metadata": {},
   "outputs": [],
   "source": [
    "import sys"
   ]
  },
  {
   "cell_type": "code",
   "execution_count": 2,
   "metadata": {},
   "outputs": [],
   "source": [
    "import PyQt5"
   ]
  },
  {
   "cell_type": "code",
   "execution_count": 1,
   "metadata": {},
   "outputs": [
    {
     "name": "stdout",
     "output_type": "stream",
     "text": [
      "Collecting PyQt5\n",
      "  Downloading https://files.pythonhosted.org/packages/44/b3/4402c5571e69bcc4e54a6f5948c1d6b7a37718acb414b42f593764ec3918/PyQt5-5.15.1-5.15.1-cp35.cp36.cp37.cp38.cp39-none-win_amd64.whl (59.4MB)\n",
      "Collecting PyQt5-sip<13,>=12.8 (from PyQt5)\n",
      "  Downloading https://files.pythonhosted.org/packages/03/cc/e64951708def57388343614558ce89da49b6d7b72b64de8322694794ff44/PyQt5_sip-12.8.1-cp37-cp37m-win_amd64.whl (62kB)\n",
      "Installing collected packages: PyQt5-sip, PyQt5\n"
     ]
    },
    {
     "name": "stderr",
     "output_type": "stream",
     "text": [
      "spyder 3.3.3 has requirement pyqt5<=5.12; python_version >= \"3\", but you'll have pyqt5 5.15.1 which is incompatible.\n",
      "Could not install packages due to an EnvironmentError: [WinError 5] Access is denied: 'C:\\\\ProgramData\\\\Anaconda3\\\\Lib\\\\site-packages\\\\PyQt5\\\\pylupdate.pyd'\n",
      "Consider using the `--user` option or check the permissions.\n",
      "\n"
     ]
    }
   ],
   "source": [
    "!pip install PyQt5"
   ]
  },
  {
   "cell_type": "code",
   "execution_count": 3,
   "metadata": {},
   "outputs": [],
   "source": [
    "import pyodbc"
   ]
  },
  {
   "cell_type": "code",
   "execution_count": 6,
   "metadata": {},
   "outputs": [],
   "source": [
    "driver = '{Microsoft Access Driver (*.mdb, *.accdb)}'\n",
    "filepath = r'C:\\Users\\M. Hassan\\Documents\\FYP.accdb'"
   ]
  },
  {
   "cell_type": "code",
   "execution_count": 4,
   "metadata": {},
   "outputs": [],
   "source": [
    "from PyQt5 import QtGui"
   ]
  },
  {
   "cell_type": "code",
   "execution_count": 9,
   "metadata": {},
   "outputs": [],
   "source": [
    "from PyQt5.QtWidgets import QApplication,QDialog, QLineEdit, QPushButton, QMessageBox, QVBoxLayout, QLabel"
   ]
  },
  {
   "cell_type": "code",
   "execution_count": 10,
   "metadata": {},
   "outputs": [
    {
     "ename": "SystemExit",
     "evalue": "0",
     "output_type": "error",
     "traceback": [
      "An exception has occurred, use %tb to see the full traceback.\n",
      "\u001b[1;31mSystemExit\u001b[0m\u001b[1;31m:\u001b[0m 0\n"
     ]
    },
    {
     "name": "stderr",
     "output_type": "stream",
     "text": [
      "C:\\ProgramData\\Anaconda3\\lib\\site-packages\\IPython\\core\\interactiveshell.py:3304: UserWarning: To exit: use 'exit', 'quit', or Ctrl-D.\n",
      "  warn(\"To exit: use 'exit', 'quit', or Ctrl-D.\", stacklevel=1)\n"
     ]
    }
   ],
   "source": [
    "class Window(QDialog):\n",
    "    def __init__(self):\n",
    "        super().__init__()\n",
    " \n",
    "        self.title = \"Project Details\"\n",
    "        self.top = 400\n",
    "        self.left = 400\n",
    "        self.width = 600\n",
    "        self.height = 400\n",
    " \n",
    " \n",
    "        self.InitWindow()\n",
    " \n",
    " \n",
    "    def InitWindow(self):\n",
    " \n",
    "        \n",
    "        self.setWindowTitle(self.title)\n",
    "        self.setGeometry(self.top, self.left, self.width, self.height)\n",
    " \n",
    "        vbox = QVBoxLayout()\n",
    "\n",
    "        self.Detect = QLabel(\"Following Element Was:\")\n",
    "        vbox.addWidget(self.Detect)\n",
    "        #if cnn = 1:\n",
    "        self.DetectBox = QLineEdit(self)\n",
    "        self.DetectBox.setPlaceholderText('Plastic or Not Plastic')\n",
    "        self.DetectBox.setStyleSheet('background:yellow')\n",
    "        self.DetectBox.setFont(QtGui.QFont(\"Sanserif\", 15))\n",
    "        #upon hardware coding, it will be change to read only\n",
    "        vbox.addWidget(self.DetectBox)\n",
    "        \n",
    "        self.Weight = QLabel(\"Mass of Plastic is\")\n",
    "        vbox.addWidget(self.Weight)\n",
    "        #pi coding to obtain reading from weight sensor:\n",
    "        self.WeightBox = QLineEdit(self)\n",
    "        self.WeightBox.setPlaceholderText('Mass of Plastic is')\n",
    "        self.WeightBox.setStyleSheet('background:yellow')\n",
    "        self.WeightBox.setFont(QtGui.QFont(\"Sanserif\", 15))\n",
    "        #upon hardware coding, it will be change to read only\n",
    "        vbox.addWidget(self.WeightBox)\n",
    "        \n",
    "        self.Money = QLabel(\"Amount from Mass\")\n",
    "        vbox.addWidget(self.Money)\n",
    "        #formula to calculate money:\n",
    "        self.MoneyBox = QLineEdit(self)\n",
    "        self.MoneyBox.setPlaceholderText('Your Amount Is')\n",
    "        self.MoneyBox.setStyleSheet('background:yellow')\n",
    "        self.MoneyBox.setFont(QtGui.QFont(\"Sanserif\", 15))\n",
    "        #upon hardware coding, it will be change to read only\n",
    "        vbox.addWidget(self.MoneyBox)\n",
    "        \n",
    "        self.Withdraw = QLabel(\"To Withdraw, Please Fill the Following\")\n",
    "        vbox.addWidget(self.Withdraw)\n",
    "        \n",
    "        self.Name = QLineEdit(self)\n",
    "        self.Name.setPlaceholderText('Please Enter Your Name')\n",
    "        self.Name.setStyleSheet('background:yellow')\n",
    "        self.Name.setFont(QtGui.QFont(\"Sanserif\", 15))\n",
    " \n",
    "        vbox.addWidget(self.Name)\n",
    " \n",
    "        self.Email = QLineEdit(self)\n",
    "        self.Email.setPlaceholderText('Please Enter Your Email')\n",
    "        self.Email.setFont(QtGui.QFont(\"Sanserif\", 15))\n",
    "        self.Email.setStyleSheet('background:yellow')\n",
    " \n",
    "        vbox.addWidget(self.Email)\n",
    "    \n",
    "        self.Phone = QLineEdit(self)\n",
    "        self.Phone.setPlaceholderText('Please Enter Your Phone Number')\n",
    "        self.Phone.setFont(QtGui.QFont(\"Sanserif\", 15))\n",
    "        self.Phone.setStyleSheet('background:yellow')\n",
    " \n",
    "        vbox.addWidget(self.Phone)\n",
    "        \n",
    "        self.CNIC = QLineEdit(self)\n",
    "        self.CNIC.setPlaceholderText('Please Enter Your CNIC')\n",
    "        self.CNIC.setFont(QtGui.QFont(\"Sanserif\", 15))\n",
    "        self.CNIC.setStyleSheet('background:yellow')\n",
    " \n",
    "        vbox.addWidget(self.CNIC)\n",
    " \n",
    "        self.button = QPushButton(\"Insert Data\", self)\n",
    "        self.button.setStyleSheet('background:green')\n",
    " \n",
    "        self.button.setFont(QtGui.QFont(\"Sanserif\", 15))\n",
    "        vbox.addWidget(self.button)\n",
    "        self.button.clicked.connect(self.InsertData)\n",
    " \n",
    "        self.setLayout(vbox)\n",
    " \n",
    "        self.show()\n",
    "    \n",
    "    def InsertData(self):\n",
    "        con = pyodbc.connect(r'Driver ={Microsoft Access Driver (*.mdb, *.accdb)};DBQ=C:\\Users\\M. Hassan\\Documents\\FYP.accdb;')\n",
    "        with con:\n",
    "            cur = con.cursor()\n",
    " \n",
    "            cur.execute(\"INSERT INTO FYP Data(Name, Email, Phone, CNIC)\"\n",
    "                        \"VALUES('%s', '%s','%s','%s')\" % (''.join(self.Name.text()),\n",
    "                                                  ''.join(self.Email.text())),''.join(self.Phone.text()),\n",
    "                                                    ''.join(self.CNIC.text()))\n",
    " \n",
    " \n",
    "            QMessageBox.about(self,'Connection', 'Data Inserted Successfully')\n",
    "            self.close()\n",
    "            \n",
    "App = QApplication(sys.argv)\n",
    "window = Window()\n",
    "sys.exit(App.exec())      "
   ]
  },
  {
   "cell_type": "code",
   "execution_count": null,
   "metadata": {},
   "outputs": [],
   "source": []
  }
 ],
 "metadata": {
  "kernelspec": {
   "display_name": "Python 3",
   "language": "python",
   "name": "python3"
  },
  "language_info": {
   "codemirror_mode": {
    "name": "ipython",
    "version": 3
   },
   "file_extension": ".py",
   "mimetype": "text/x-python",
   "name": "python",
   "nbconvert_exporter": "python",
   "pygments_lexer": "ipython3",
   "version": "3.7.3"
  }
 },
 "nbformat": 4,
 "nbformat_minor": 2
}
